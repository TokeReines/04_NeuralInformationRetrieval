{
 "cells": [
  {
   "cell_type": "markdown",
   "metadata": {
    "collapsed": true,
    "pycharm": {
     "name": "#%% md\n"
    }
   },
   "source": [
    "# Ranking Models"
   ]
  },
  {
   "cell_type": "markdown",
   "metadata": {},
   "source": [
    "## 1. Setup"
   ]
  },
  {
   "cell_type": "code",
   "execution_count": 30,
   "metadata": {},
   "outputs": [],
   "source": [
    "import os\n",
    "import time\n",
    "import json\n",
    "import pyterrier as pt\n",
    "import pandas as pd\n",
    "import numpy as np\n",
    "from collections import defaultdict\n",
    "from time import time\n",
    "\n",
    "INDEX_BASE_PATH = \"./indexes\"\n",
    "INDEX_PATH_NO_PREPROCESSING = f\"{INDEX_BASE_PATH}/no_preprocessing\"\n",
    "INDEX_PATH_DEFAULT = f\"{INDEX_BASE_PATH}/default\"\n",
    "INDEX_PATH_DEFAULT_POSITIONS = f\"{INDEX_BASE_PATH}/default_positions\"\n",
    "INDEX_PATH_STOPWORDS = f\"{INDEX_BASE_PATH}/stopwords\"\n",
    "INDEX_PATH_STEMMING = f\"{INDEX_BASE_PATH}/stemming\"\n",
    "\n",
    "CORPUS_PATH = \"./data/corpus.jsonl\"\n",
    "THREADS = 6"
   ]
  },
  {
   "cell_type": "code",
   "execution_count": 8,
   "metadata": {
    "pycharm": {
     "name": "#%%\n"
    }
   },
   "outputs": [],
   "source": [
    "if not pt.started():\n",
    "    pt.init()"
   ]
  },
  {
   "cell_type": "code",
   "execution_count": 28,
   "metadata": {
    "pycharm": {
     "name": "#%%\n"
    }
   },
   "outputs": [],
   "source": [
    "def get_index(index_path: str):\n",
    "    index = pt.IndexFactory.of(index_path)\n",
    "    return index"
   ]
  },
  {
   "cell_type": "code",
   "execution_count": 32,
   "metadata": {},
   "outputs": [],
   "source": [
    "# topics\n",
    "query_df = pd.read_csv('data/train_query.csv', dtype=str)\n",
    "#query_df = pd.read_csv('data/lab_topics.csv', dtype=str)\n",
    "\n",
    "# Load qrels\n",
    "qrels_df = pd.read_csv('data/train_qrel.csv', dtype=str).astype({'label': 'int32'})\n",
    "#qrels_df = pd.read_csv('data/lab_qrels.csv', dtype=str).astype({'label': 'int32'})"
   ]
  },
  {
   "cell_type": "markdown",
   "metadata": {},
   "source": [
    "## 2. Creating folds"
   ]
  },
  {
   "cell_type": "code",
   "execution_count": 11,
   "metadata": {},
   "outputs": [],
   "source": [
    "# Create 3 folds\n",
    "def create_folds(num_folds: int, df):\n",
    "    df_size = len(df)\n",
    "    fold_size = df_size // num_folds\n",
    "    for n in range(num_folds):\n",
    "        if n == num_folds:\n",
    "            end = df_size\n",
    "        else:\n",
    "            end = (n + 1) * fold_size\n",
    "\n",
    "        start = n * fold_size\n",
    "        yield df.iloc[start:end]\n",
    "        \n",
    "# Finding optimal controls from a tuning run\n",
    "def get_optimal_controls(tuning_run):\n",
    "    control_values = defaultdict(list)\n",
    "    for fold in tuning_run:\n",
    "        for _, control_name, value in fold:\n",
    "            control_values[control_name].append(value)\n",
    "    return {control: np.mean(values) for control, values in control_values.items()}"
   ]
  },
  {
   "cell_type": "markdown",
   "metadata": {},
   "source": [
    "## 3. Tuning Probabilistic Models"
   ]
  },
  {
   "cell_type": "markdown",
   "metadata": {},
   "source": [
    "### 3.1  BM25"
   ]
  },
  {
   "cell_type": "code",
   "execution_count": 19,
   "metadata": {
    "pycharm": {
     "name": "#%%\n"
    },
    "scrolled": false
   },
   "outputs": [
    {
     "name": "stdout",
     "output_type": "stream",
     "text": [
      "Fold 1\n"
     ]
    },
    {
     "name": "stderr",
     "output_type": "stream",
     "text": [
      "/home/tokereines/miniconda3/envs/nir/lib/python3.9/site-packages/pyterrier/pipelines.py:811: UserWarning: Cannot provide progress on parallel job\n",
      "  warn(\"Cannot provide progress on parallel job\")\n",
      "PyTerrier 0.8.1 has loaded Terrier 5.6 (built by craigmacdonald on 2021-09-17 13:27)\n",
      "\n",
      "PyTerrier 0.8.1 has loaded Terrier 5.6 (built by craigmacdonald on 2021-09-17 13:27)\n",
      "\n",
      "PyTerrier 0.8.1 has loaded Terrier 5.6 (built by craigmacdonald on 2021-09-17 13:27)\n",
      "\n",
      "PyTerrier 0.8.1 has loaded Terrier 5.6 (built by craigmacdonald on 2021-09-17 13:27)\n",
      "\n",
      "PyTerrier 0.8.1 has loaded Terrier 5.6 (built by craigmacdonald on 2021-09-17 13:27)\n",
      "\n",
      "PyTerrier 0.8.1 has loaded Terrier 5.6 (built by craigmacdonald on 2021-09-17 13:27)\n",
      "\n",
      "No etc/terrier.properties, using terrier.default.properties for bootstrap configuration.\n",
      "No etc/terrier.properties, using terrier.default.properties for bootstrap configuration.\n",
      "No etc/terrier.properties, using terrier.default.properties for bootstrap configuration.\n",
      "No etc/terrier.properties, using terrier.default.properties for bootstrap configuration.\n",
      "No etc/terrier.properties, using terrier.default.properties for bootstrap configuration.\n",
      "No etc/terrier.properties, using terrier.default.properties for bootstrap configuration.\n"
     ]
    },
    {
     "name": "stdout",
     "output_type": "stream",
     "text": [
      "Best map is 0.321467\n",
      "Best setting is ['BR(BM25) bm25.b=1.0', 'BR(BM25) bm25.k_1=1.0', 'BR(BM25) bm25.k_3=0.3']\n",
      "Fold 2\n",
      "Best map is 0.372062\n",
      "Best setting is ['BR(BM25) bm25.b=1.0', 'BR(BM25) bm25.k_1=1.0', 'BR(BM25) bm25.k_3=0.3']\n",
      "Fold 3\n"
     ]
    },
    {
     "name": "stderr",
     "output_type": "stream",
     "text": [
      "/home/tokereines/miniconda3/envs/nir/lib/python3.9/site-packages/pyterrier/pipelines.py:811: UserWarning: Cannot provide progress on parallel job\n",
      "  warn(\"Cannot provide progress on parallel job\")\n",
      "/home/tokereines/miniconda3/envs/nir/lib/python3.9/site-packages/pyterrier/pipelines.py:811: UserWarning: Cannot provide progress on parallel job\n",
      "  warn(\"Cannot provide progress on parallel job\")\n"
     ]
    },
    {
     "name": "stdout",
     "output_type": "stream",
     "text": [
      "Best map is 0.432605\n",
      "Best setting is ['BR(BM25) bm25.b=1.0', 'BR(BM25) bm25.k_1=1.0', 'BR(BM25) bm25.k_3=0.3']\n"
     ]
    }
   ],
   "source": [
    "num_folds = 3\n",
    "query_folds = list(create_folds(num_folds, query_df))\n",
    "\n",
    "index = get_index(INDEX_PATH_DEFAULT)\n",
    "bm25 = pt.BatchRetrieve(index, wmodel=\"BM25\", controls={\"bm25.b\": 0.3, \"bm25.k_1\": 0.5, \"bm25.k_3\": 0.75})\n",
    "tuned_bm25, fold_controls = pt.KFoldGridSearch(\n",
    "    bm25,\n",
    "    {bm25: {\n",
    "        \"bm25.b\": np.linspace(0.1, 1, 2),\n",
    "        \"bm25.k_1\": np.linspace(0.3, 1, 2),\n",
    "        \"bm25.k_3\": np.linspace(0.3, 1, 2)\n",
    "    }},\n",
    "    query_folds,\n",
    "    qrels_df,\n",
    "    \"map\",\n",
    "    jobs=6,\n",
    "    verbose=True\n",
    ")"
   ]
  },
  {
   "cell_type": "code",
   "execution_count": 20,
   "metadata": {},
   "outputs": [
    {
     "name": "stdout",
     "output_type": "stream",
     "text": [
      "Optimal controls: {'bm25.b': 1.0, 'bm25.k_1': 1.0, 'bm25.k_3': 0.3} \n",
      "\n",
      "                                                name       map      ndcg\n",
      "0                                           BR(BM25)  0.559474  0.724525\n",
      "1           qid  docid    docno  rank     score  ...  0.559474  0.724525\n"
     ]
    }
   ],
   "source": [
    "print(\"Optimal controls:\", get_optimal_controls(fold_controls), \"\\n\")\n",
    "print(pt.Experiment([bm25, tuned_bm25], query_df, qrels_df, [\"map\", \"ndcg\"]))\n"
   ]
  },
  {
   "cell_type": "markdown",
   "metadata": {},
   "source": [
    "### 3.2 Tuning BM25F"
   ]
  },
  {
   "cell_type": "code",
   "execution_count": 18,
   "metadata": {},
   "outputs": [
    {
     "name": "stdout",
     "output_type": "stream",
     "text": [
      "Fold 1\n"
     ]
    },
    {
     "name": "stderr",
     "output_type": "stream",
     "text": [
      "/home/tokereines/miniconda3/envs/nir/lib/python3.9/site-packages/pyterrier/pipelines.py:811: UserWarning: Cannot provide progress on parallel job\n",
      "  warn(\"Cannot provide progress on parallel job\")\n",
      "\n",
      "KeyboardInterrupt\n",
      "\n"
     ]
    }
   ],
   "source": [
    "num_folds = 3\n",
    "query_folds = list(create_folds(num_folds, query_df))\n",
    "\n",
    "index = get_index(INDEX_PATH_DEFAULT)\n",
    "bm25f = pt.BatchRetrieve(index, wmodel=\"BM25F\", controls={\"c.0\" : 0.75, \n",
    "                                                          \"c.1\" : 0.75, \n",
    "                                                          \"w.0\": 0.75, \n",
    "                                                          \"w.1\" : 0.75, \n",
    "                                                          \"bm25f.k_1\": 0.75, \n",
    "                                                          \"bm25f.k_3\": 0.75,\n",
    "                                                         })\n",
    "tuned_bm25f, fold_controls_bm25f = pt.KFoldGridSearch(\n",
    "    bm25f,\n",
    "    {bm25f: {\n",
    "        \"c.0\": np.linspace(0, 1, 5),\n",
    "        \"c.1\": np.linspace(0, 1, 5),\n",
    "        \"w.0\": np.linspace(0, 1, 5),\n",
    "        \"w.1\": np.linspace(0, 1, 5),\n",
    "        \"bm25f.k_1\": np.linspace(0, 1, 5),\n",
    "        \"bm25f.k_3\": np.linspace(0, 1, 5)\n",
    "    }},\n",
    "    query_folds,\n",
    "    qrels_df,\n",
    "    \"map\",\n",
    "    jobs=6,\n",
    "    verbose=True\n",
    ")"
   ]
  },
  {
   "cell_type": "code",
   "execution_count": null,
   "metadata": {},
   "outputs": [],
   "source": [
    "print(pt.Experiment([bm25f, tuned_bm25f], query_df, qrels_df, [\"map\", \"ndcg\"]))"
   ]
  },
  {
   "cell_type": "markdown",
   "metadata": {},
   "source": [
    "## 4. Tuning Language Models"
   ]
  },
  {
   "cell_type": "code",
   "execution_count": 25,
   "metadata": {},
   "outputs": [
    {
     "name": "stdout",
     "output_type": "stream",
     "text": [
      "Fold 1\n",
      "Best map is 0.319564\n",
      "Best setting is ['BR(DirichletLM) dirichletlm.mu=5000.0']\n",
      "Fold 2\n"
     ]
    },
    {
     "name": "stderr",
     "output_type": "stream",
     "text": [
      "/home/tokereines/miniconda3/envs/nir/lib/python3.9/site-packages/pyterrier/pipelines.py:811: UserWarning: Cannot provide progress on parallel job\n",
      "  warn(\"Cannot provide progress on parallel job\")\n",
      "/home/tokereines/miniconda3/envs/nir/lib/python3.9/site-packages/pyterrier/pipelines.py:811: UserWarning: Cannot provide progress on parallel job\n",
      "  warn(\"Cannot provide progress on parallel job\")\n"
     ]
    },
    {
     "name": "stdout",
     "output_type": "stream",
     "text": [
      "Best map is 0.370269\n",
      "Best setting is ['BR(DirichletLM) dirichletlm.mu=2500.0']\n",
      "Fold 3\n",
      "Best map is 0.436811\n",
      "Best setting is ['BR(DirichletLM) dirichletlm.mu=5000.0']\n"
     ]
    },
    {
     "name": "stderr",
     "output_type": "stream",
     "text": [
      "/home/tokereines/miniconda3/envs/nir/lib/python3.9/site-packages/pyterrier/pipelines.py:811: UserWarning: Cannot provide progress on parallel job\n",
      "  warn(\"Cannot provide progress on parallel job\")\n"
     ]
    }
   ],
   "source": [
    "num_folds = 3\n",
    "query_folds = list(create_folds(num_folds, query_df))\n",
    "\n",
    "index = get_index(INDEX_PATH_DEFAULT)\n",
    "dir_lm = pt.BatchRetrieve(index, wmodel=\"DirichletLM\", controls={\"dirichletlm.mu\" : 2500})\n",
    "tuned_dir_lm, fold_controls_dir_lm = pt.KFoldGridSearch(\n",
    "    dir_lm,\n",
    "    {dir_lm: {\n",
    "        \"dirichletlm.mu\": np.linspace(0, 10000, 5)\n",
    "    }},\n",
    "    query_folds,\n",
    "    qrels_df,\n",
    "    \"map\",\n",
    "    jobs=6,\n",
    "    verbose=True\n",
    ")"
   ]
  },
  {
   "cell_type": "code",
   "execution_count": 26,
   "metadata": {},
   "outputs": [
    {
     "name": "stdout",
     "output_type": "stream",
     "text": [
      "Optimal controls: {'dirichletlm.mu': 4166.666666666667} \n",
      "\n",
      "                                                name       map      ndcg\n",
      "0                                           BR(BM25)  0.559474  0.724525\n",
      "1           qid  docid    docno  rank     score  ...  0.559474  0.724525\n",
      "2                                    BR(DirichletLM)  0.562166  0.731454\n",
      "3           qid  docid    docno  rank     score  ...  0.562166  0.731454\n"
     ]
    }
   ],
   "source": [
    "print(pt.Experiment([bm25, tuned_bm25, dir_lm2, tuned_dir_lm], query_df, qrels_df, [\"map\", \"ndcg\"]))"
   ]
  },
  {
   "cell_type": "markdown",
   "metadata": {},
   "source": [
    "# 5. Comparing Models/Indices"
   ]
  },
  {
   "cell_type": "code",
   "execution_count": 33,
   "metadata": {},
   "outputs": [
    {
     "name": "stdout",
     "output_type": "stream",
     "text": [
      "\n",
      "\n",
      "./indexes/no_preprocessing: Number of documents: 528155\n",
      "Number of terms: 622029\n",
      "Number of postings: 117766368\n",
      "Number of fields: 2\n",
      "Number of tokens: 257028522\n",
      "Field names: [title, text]\n",
      "Positions:   false\n",
      "\n",
      "              name       map      ndcg\n",
      "0         BR(BM25)  0.218007  0.474417\n",
      "1  BR(DirichletLM)  0.223315  0.485798\n",
      "\n",
      "\n",
      "./indexes/default: Number of documents: 528155\n",
      "Number of terms: 520520\n",
      "Number of postings: 83716130\n",
      "Number of fields: 2\n",
      "Number of tokens: 145322007\n",
      "Field names: [title, text]\n",
      "Positions:   false\n",
      "\n",
      "              name       map      ndcg\n",
      "0         BR(BM25)  0.249030  0.518623\n",
      "1  BR(DirichletLM)  0.238461  0.510835\n",
      "\n",
      "\n",
      "./indexes/default_positions: Number of documents: 528155\n",
      "Number of terms: 520520\n",
      "Number of postings: 83716130\n",
      "Number of fields: 2\n",
      "Number of tokens: 145322007\n",
      "Field names: [title, text]\n",
      "Positions:   true\n",
      "\n",
      "              name       map      ndcg\n",
      "0         BR(BM25)  0.249030  0.518623\n",
      "1  BR(DirichletLM)  0.238461  0.510835\n",
      "\n",
      "\n",
      "./indexes/stopwords: Number of documents: 528155\n",
      "Number of terms: 621458\n",
      "Number of postings: 90480384\n",
      "Number of fields: 2\n",
      "Number of tokens: 145322007\n",
      "Field names: [title, text]\n",
      "Positions:   false\n",
      "\n",
      "              name       map      ndcg\n",
      "0         BR(BM25)  0.220585  0.477828\n",
      "1  BR(DirichletLM)  0.217568  0.479103\n",
      "\n",
      "\n",
      "./indexes/stemming: Number of documents: 528155\n",
      "Number of terms: 520725\n",
      "Number of postings: 110057603\n",
      "Number of fields: 2\n",
      "Number of tokens: 257028522\n",
      "Field names: [title, text]\n",
      "Positions:   false\n",
      "\n",
      "              name       map      ndcg\n",
      "0         BR(BM25)  0.244097  0.512571\n",
      "1  BR(DirichletLM)  0.247028  0.520307\n"
     ]
    }
   ],
   "source": [
    "for index_name in [INDEX_PATH_NO_PREPROCESSING,INDEX_PATH_DEFAULT,INDEX_PATH_DEFAULT_POSITIONS, \n",
    "                   INDEX_PATH_STOPWORDS,INDEX_PATH_STEMMING]:\n",
    "    index = get_index(index_name)\n",
    "    bm25 = pt.BatchRetrieve(index, wmodel=\"BM25\", controls={\"bm25.b\": 0.7, \"bm25.k_1\": 0.75, \"bm25.k_3\": 0.75})\n",
    "    dir_lm = pt.BatchRetrieve(index, wmodel=\"DirichletLM\", controls={\"dirichletlm.mu\": 2500})\n",
    "    print(f\"\\n\\n{index_name}: {index.getCollectionStatistics().toString()}\")\n",
    "    print(pt.Experiment([bm25, dir_lm], query_df, qrels_df, [\"map\", \"ndcg\"]))"
   ]
  }
 ],
 "metadata": {
  "kernelspec": {
   "display_name": "Python 3 (ipykernel)",
   "language": "python",
   "name": "python3"
  },
  "language_info": {
   "codemirror_mode": {
    "name": "ipython",
    "version": 3
   },
   "file_extension": ".py",
   "mimetype": "text/x-python",
   "name": "python",
   "nbconvert_exporter": "python",
   "pygments_lexer": "ipython3",
   "version": "3.9.12"
  }
 },
 "nbformat": 4,
 "nbformat_minor": 1
}
