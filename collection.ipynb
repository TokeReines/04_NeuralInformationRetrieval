{
 "cells": [
  {
   "cell_type": "markdown",
   "metadata": {
    "collapsed": true,
    "pycharm": {
     "name": "#%% md\n"
    }
   },
   "source": [
    "# Indexing"
   ]
  },
  {
   "cell_type": "code",
   "execution_count": 32,
   "metadata": {},
   "outputs": [],
   "source": [
    "import os\n",
    "import time\n",
    "import json\n",
    "import pyterrier as pt\n",
    "from time import time\n",
    "\n",
    "INDEX_BASE_PATH = \"./indexes\"\n",
    "INDEX_PATH_NO_PREPROCESSING = f\"{INDEX_BASE_PATH}/no_preprocessing\"\n",
    "INDEX_PATH_DEFAULT = f\"{INDEX_BASE_PATH}/default\"\n",
    "INDEX_PATH_DEFAULT_POSITIONS = f\"{INDEX_BASE_PATH}/default_positions\"\n",
    "INDEX_PATH_STOPWORDS = f\"{INDEX_BASE_PATH}/stopwords\"\n",
    "INDEX_PATH_STEMMING = f\"{INDEX_BASE_PATH}/stemming\"\n",
    "\n",
    "CORPUS_PATH = \"./data/corpus.jsonl\"\n",
    "THREADS = 6"
   ]
  },
  {
   "cell_type": "code",
   "execution_count": 33,
   "metadata": {
    "pycharm": {
     "name": "#%%\n"
    }
   },
   "outputs": [],
   "source": [
    "if not pt.started():\n",
    "    pt.init()"
   ]
  },
  {
   "cell_type": "code",
   "execution_count": 34,
   "metadata": {},
   "outputs": [],
   "source": [
    "def get_corpus(path: str):\n",
    "    \"\"\"\n",
    "    Loads the corpus from the given path.\n",
    "    :param path: Path to the corpus.\n",
    "    :return: Generator of documents (lines in the document/path).\n",
    "    \"\"\"\n",
    "    with open(path, \"r\") as f:\n",
    "        for line in f:\n",
    "            line_dict = json.loads(line)\n",
    "            line_dict['docno'] = line_dict.pop('_id')\n",
    "            yield line_dict"
   ]
  },
  {
   "cell_type": "markdown",
   "metadata": {
    "pycharm": {
     "name": "#%% md\n"
    }
   },
   "source": [
    "PyTerrier indexing runs with stemming and stopwords removal by default (“Stopwords,PorterStemmer”).\n",
    "Modifying the preprocessing step is done by calling `.setProperty()`on the `IterDictIndexer` object.\n",
    "Below cells will generate 4 different indices with different preprocessing steps."
   ]
  },
  {
   "cell_type": "code",
   "execution_count": 35,
   "metadata": {
    "pycharm": {
     "name": "#%%\n"
    }
   },
   "outputs": [],
   "source": [
    "def generate_index(index_path, termpipelines=None, overwrite=False, blocks=False):\n",
    "    iter_indexer = pt.IterDictIndexer(\n",
    "        index_path,\n",
    "        overwrite=overwrite,\n",
    "        meta=[\"docno\", \"title\", \"text\"],\n",
    "        meta_lengths=[20, 256, 4096],\n",
    "        threads=THREADS,\n",
    "        blocks=blocks\n",
    "    )\n",
    "    if termpipelines is not None:\n",
    "        iter_indexer.setProperty(\"termpipelines\", termpipelines)\n",
    "\n",
    "    iter_indexer.index(get_corpus(CORPUS_PATH), fields=[\"title\", \"text\"])\n",
    "    index = pt.IndexFactory.of(index_path)\n",
    "    return index"
   ]
  },
  {
   "cell_type": "markdown",
   "metadata": {},
   "source": [
    "# Timing the indexing process"
   ]
  },
  {
   "cell_type": "markdown",
   "source": [
    "Default indexing (\"Stopwords, PorterStemmer\"), with positions (blocks)"
   ],
   "metadata": {
    "collapsed": false
   }
  },
  {
   "cell_type": "code",
   "execution_count": null,
   "outputs": [],
   "source": [
    "t = time()\n",
    "index = generate_index(INDEX_PATH_DEFAULT_POSITIONS, termpipelines=\"Stopwords,PorterStemmer\", blocks=True)\n",
    "m, s = divmod(time() - t, 60)\n",
    "print(f\"Indexing with blocks/positions and both stemming and stopword removal took {m:.02f} minutes and {s:.02f} seconds\")"
   ],
   "metadata": {
    "collapsed": false,
    "pycharm": {
     "name": "#%%\n"
    }
   }
  },
  {
   "cell_type": "markdown",
   "metadata": {},
   "source": [
    "Default indexing (\"Stopwords, PorterStemmer\")"
   ]
  },
  {
   "cell_type": "code",
   "execution_count": null,
   "metadata": {
    "pycharm": {
     "name": "#%%\n"
    }
   },
   "outputs": [],
   "source": [
    "t = time()\n",
    "index = generate_index(INDEX_PATH_DEFAULT, termpipelines=\"Stopwords,PorterStemmer\")\n",
    "m, s = divmod(time() - t, 60)\n",
    "print(f\"Indexing with both stemming and stopword removal took {m:.02f} minutes and {s:.02f} seconds\")"
   ]
  },
  {
   "cell_type": "markdown",
   "metadata": {},
   "source": [
    "No preprocessing pipeline"
   ]
  },
  {
   "cell_type": "code",
   "execution_count": null,
   "metadata": {
    "pycharm": {
     "name": "#%%\n"
    }
   },
   "outputs": [],
   "source": [
    "t = time()\n",
    "index = generate_index(INDEX_PATH_NO_PREPROCESSING, termpipelines=\"\")\n",
    "m, s = divmod(time() - t, 60)\n",
    "print(f\"Indexing with no preprocessing took {m:.02f} minutes and {s:.02f} seconds\")"
   ]
  },
  {
   "cell_type": "markdown",
   "metadata": {
    "pycharm": {
     "name": "#%% md\n"
    }
   },
   "source": [
    "Only remove stopwords"
   ]
  },
  {
   "cell_type": "code",
   "execution_count": null,
   "metadata": {
    "pycharm": {
     "name": "#%%\n"
    }
   },
   "outputs": [],
   "source": [
    "t = time()\n",
    "index = generate_index(INDEX_PATH_STOPWORDS, termpipelines=\"Stopwords\")\n",
    "m, s = divmod(time() - t, 60)\n",
    "print(f\"Indexing with only stopwords took {m:.02f} minutes and {s:.02f} seconds\")"
   ]
  },
  {
   "cell_type": "markdown",
   "metadata": {},
   "source": [
    "Only do stemming"
   ]
  },
  {
   "cell_type": "code",
   "execution_count": null,
   "metadata": {
    "pycharm": {
     "name": "#%%\n"
    }
   },
   "outputs": [],
   "source": [
    "t = time()\n",
    "index = generate_index(INDEX_PATH_STEMMING, termpipelines=\"PorterStemmer\")\n",
    "m, s = divmod(time() - t, 60)\n",
    "print(f\"Indexing with only PorterStemmer took {m:.02f} minutes and {s:.02f} seconds\")"
   ]
  },
  {
   "cell_type": "markdown",
   "metadata": {
    "pycharm": {
     "name": "#%% md\n"
    }
   },
   "source": [
    "# Looking into index statistics"
   ]
  },
  {
   "cell_type": "code",
   "execution_count": 44,
   "metadata": {
    "pycharm": {
     "name": "#%%\n"
    }
   },
   "outputs": [],
   "source": [
    "def get_index(index_path: str):\n",
    "    index = pt.IndexFactory.of(index_path)\n",
    "    return index"
   ]
  },
  {
   "cell_type": "markdown",
   "metadata": {},
   "source": [
    "Default pipeline (\"Stopwords, PorterStemmer\")"
   ]
  },
  {
   "cell_type": "code",
   "execution_count": 45,
   "metadata": {
    "pycharm": {
     "name": "#%%\n"
    }
   },
   "outputs": [
    {
     "name": "stdout",
     "output_type": "stream",
     "text": [
      "Number of documents: 1\n",
      "Number of terms: 1\n",
      "Number of postings: 1\n",
      "Number of fields: 0\n",
      "Number of tokens: 1\n",
      "Field names: []\n",
      "Positions:   false\n",
      "\n"
     ]
    }
   ],
   "source": [
    "index = get_index(INDEX_PATH_DEFAULT)\n",
    "print(index.getCollectionStatistics().toString())\n"
   ]
  },
  {
   "cell_type": "markdown",
   "source": [
    "Default pipeline (\"Stopwords, PorterStemmer\") with positions/blocks"
   ],
   "metadata": {
    "collapsed": false
   }
  },
  {
   "cell_type": "code",
   "execution_count": null,
   "outputs": [],
   "source": [
    "index = get_index(INDEX_PATH_DEFAULT_POSITIONS)\n",
    "print(index.getCollectionStatistics().toString())"
   ],
   "metadata": {
    "collapsed": false,
    "pycharm": {
     "name": "#%%\n"
    }
   }
  },
  {
   "cell_type": "markdown",
   "metadata": {},
   "source": [
    "Only remove stopwords"
   ]
  },
  {
   "cell_type": "code",
   "execution_count": 46,
   "metadata": {
    "pycharm": {
     "name": "#%%\n"
    }
   },
   "outputs": [
    {
     "name": "stdout",
     "output_type": "stream",
     "text": [
      "Number of documents: 528155\n",
      "Number of terms: 621458\n",
      "Number of postings: 90480384\n",
      "Number of fields: 2\n",
      "Number of tokens: 145322007\n",
      "Field names: [title, text]\n",
      "Positions:   false\n",
      "\n"
     ]
    }
   ],
   "source": [
    "index = get_index(INDEX_PATH_STOPWORDS)\n",
    "print(index.getCollectionStatistics().toString())"
   ]
  },
  {
   "cell_type": "markdown",
   "metadata": {},
   "source": [
    "Only PorterStemmer"
   ]
  },
  {
   "cell_type": "code",
   "execution_count": null,
   "metadata": {
    "pycharm": {
     "name": "#%%\n"
    }
   },
   "outputs": [],
   "source": [
    "index = get_index(INDEX_PATH_STEMMING)\n",
    "print(index.getCollectionStatistics().toString())"
   ]
  },
  {
   "cell_type": "markdown",
   "metadata": {
    "pycharm": {
     "name": "#%% md\n"
    }
   },
   "source": [
    "No preprocessing pipeline"
   ]
  },
  {
   "cell_type": "code",
   "execution_count": null,
   "metadata": {
    "pycharm": {
     "name": "#%%\n"
    }
   },
   "outputs": [],
   "source": [
    "index = get_index(INDEX_PATH_NO_PREPROCESSING)\n",
    "print(index.getCollectionStatistics().toString())\n",
    "\n"
   ]
  },
  {
   "cell_type": "markdown",
   "metadata": {
    "pycharm": {
     "name": "#%% md\n"
    }
   },
   "source": [
    "Only remove stopwords"
   ]
  },
  {
   "cell_type": "code",
   "execution_count": null,
   "metadata": {
    "pycharm": {
     "name": "#%%\n"
    }
   },
   "outputs": [],
   "source": [
    "index = get_index(INDEX_PATH_STOPWORDS)\n",
    "index.getCollectionStatistics().toString()\n"
   ]
  }
 ],
 "metadata": {
  "kernelspec": {
   "display_name": "Python 3 (ipykernel)",
   "language": "python",
   "name": "python3"
  },
  "language_info": {
   "codemirror_mode": {
    "name": "ipython",
    "version": 3
   },
   "file_extension": ".py",
   "mimetype": "text/x-python",
   "name": "python",
   "nbconvert_exporter": "python",
   "pygments_lexer": "ipython3",
   "version": "3.9.12"
  }
 },
 "nbformat": 4,
 "nbformat_minor": 1
}