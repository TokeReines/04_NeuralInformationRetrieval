{
 "cells": [
  {
   "cell_type": "markdown",
   "metadata": {
    "collapsed": true,
    "pycharm": {
     "name": "#%% md\n"
    }
   },
   "source": [
    "# 1. Setup and helper functions"
   ]
  },
  {
   "cell_type": "code",
   "execution_count": 8,
   "metadata": {},
   "outputs": [],
   "source": [
    "import os\n",
    "import time\n",
    "import json\n",
    "import pyterrier as pt\n",
    "from time import time\n",
    "\n",
    "INDEX_BASE_PATH = \"./indexes\"\n",
    "INDEX_PATH_NO_PREPROCESSING = f\"{INDEX_BASE_PATH}/no_preprocessing\"\n",
    "INDEX_PATH_DEFAULT = f\"{INDEX_BASE_PATH}/default\"\n",
    "INDEX_PATH_DEFAULT_POSITIONS = f\"{INDEX_BASE_PATH}/default_positions\"\n",
    "INDEX_PATH_STOPWORDS = f\"{INDEX_BASE_PATH}/stopwords\"\n",
    "INDEX_PATH_STEMMING = f\"{INDEX_BASE_PATH}/stemming\"\n",
    "\n",
    "CORPUS_PATH = \"./data/corpus.jsonl\"\n",
    "THREADS = 6"
   ]
  },
  {
   "cell_type": "code",
   "execution_count": 2,
   "metadata": {
    "pycharm": {
     "name": "#%%\n"
    }
   },
   "outputs": [
    {
     "name": "stderr",
     "output_type": "stream",
     "text": [
      "PyTerrier 0.8.1 has loaded Terrier 5.6 (built by craigmacdonald on 2021-09-17 13:27)\n",
      "\n",
      "No etc/terrier.properties, using terrier.default.properties for bootstrap configuration.\n"
     ]
    }
   ],
   "source": [
    "if not pt.started():\n",
    "    pt.init()"
   ]
  },
  {
   "cell_type": "code",
   "execution_count": 3,
   "metadata": {},
   "outputs": [],
   "source": [
    "def get_corpus(path: str):\n",
    "    \"\"\"\n",
    "    Loads the corpus from the given path.\n",
    "    :param path: Path to the corpus.\n",
    "    :return: Generator of documents (lines in the document/path).\n",
    "    \"\"\"\n",
    "    with open(path, \"r\") as f:\n",
    "        for line in f:\n",
    "            line_dict = json.loads(line)\n",
    "            line_dict['docno'] = line_dict.pop('_id')\n",
    "            yield line_dict"
   ]
  },
  {
   "cell_type": "markdown",
   "metadata": {
    "pycharm": {
     "name": "#%% md\n"
    }
   },
   "source": [
    "PyTerrier indexing runs with stemming and stopwords removal by default (“Stopwords,PorterStemmer”).\n",
    "Modifying the preprocessing step is done by calling `.setProperty()`on the `IterDictIndexer` object.\n",
    "Below cells will generate 4 different indices with different preprocessing steps."
   ]
  },
  {
   "cell_type": "code",
   "execution_count": 4,
   "metadata": {
    "pycharm": {
     "name": "#%%\n"
    }
   },
   "outputs": [],
   "source": [
    "def generate_index(index_path, termpipelines=None, overwrite=False, blocks=False):\n",
    "    if not os.path.exists(index_path + '/data.properties'):\n",
    "        indexer = pt.IterDictIndexer(\n",
    "        index_path,\n",
    "        overwrite=overwrite,\n",
    "        meta=[\"docno\", \"title\", \"text\"],\n",
    "        meta_lengths=[20, 256, 4096],\n",
    "        threads=THREADS,\n",
    "        blocks=blocks)\n",
    "        if termpipelines is not None:\n",
    "            indexer.setProperty(\"termpipelines\", termpipelines)\n",
    "\n",
    "        index_ref = indexer.index(get_corpus(CORPUS_PATH), fields=[\"title\", \"text\"])\n",
    "    else:\n",
    "        index_ref = pt.IndexRef.of(index_path + '/data.properties')\n",
    "    index = pt.IndexFactory.of(index_ref)\n",
    "    return index"
   ]
  },
  {
   "cell_type": "code",
   "execution_count": 5,
   "metadata": {},
   "outputs": [],
   "source": [
    "def get_index(index_path: str):\n",
    "    index = pt.IndexFactory.of(index_path)\n",
    "    return index"
   ]
  },
  {
   "cell_type": "markdown",
   "metadata": {},
   "source": [
    "# 2. Timing the indexing process"
   ]
  },
  {
   "cell_type": "markdown",
   "metadata": {},
   "source": [
    "Default indexing (\"Stopwords, PorterStemmer\"), with positions (blocks)"
   ]
  },
  {
   "cell_type": "markdown",
   "metadata": {},
   "source": [
    "Default indexing (\"Stopwords, PorterStemmer\")"
   ]
  },
  {
   "cell_type": "code",
   "execution_count": 13,
   "metadata": {
    "pycharm": {
     "name": "#%%\n"
    }
   },
   "outputs": [
    {
     "name": "stdout",
     "output_type": "stream",
     "text": [
      "Indexing with both stemming and stopword removal took 0.00 minutes and 0.00 seconds\n"
     ]
    }
   ],
   "source": [
    "t = time()\n",
    "index = generate_index(INDEX_PATH_DEFAULT, termpipelines=\"Stopwords,PorterStemmer\")\n",
    "m, s = divmod(time() - t, 60)\n",
    "print(f\"Indexing with both stemming and stopword removal took {m:.02f} minutes and {s:.02f} seconds\")"
   ]
  },
  {
   "cell_type": "markdown",
   "metadata": {},
   "source": [
    "No preprocessing pipeline"
   ]
  },
  {
   "cell_type": "code",
   "execution_count": 10,
   "metadata": {
    "pycharm": {
     "name": "#%%\n"
    }
   },
   "outputs": [
    {
     "name": "stdout",
     "output_type": "stream",
     "text": [
      "Indexing with no preprocessing took 0.00 minutes and 0.54 seconds\n"
     ]
    }
   ],
   "source": [
    "t = time()\n",
    "index = generate_index(INDEX_PATH_NO_PREPROCESSING, termpipelines=\"\")\n",
    "m, s = divmod(time() - t, 60)\n",
    "print(f\"Indexing with no preprocessing took {m:.02f} minutes and {s:.02f} seconds\")"
   ]
  },
  {
   "cell_type": "markdown",
   "metadata": {
    "pycharm": {
     "name": "#%% md\n"
    }
   },
   "source": [
    "Only remove stopwords"
   ]
  },
  {
   "cell_type": "code",
   "execution_count": 11,
   "metadata": {
    "pycharm": {
     "name": "#%%\n"
    }
   },
   "outputs": [
    {
     "name": "stdout",
     "output_type": "stream",
     "text": [
      "Indexing with only stopwords took 0.00 minutes and 0.51 seconds\n"
     ]
    }
   ],
   "source": [
    "t = time()\n",
    "index = generate_index(INDEX_PATH_STOPWORDS, termpipelines=\"Stopwords\")\n",
    "m, s = divmod(time() - t, 60)\n",
    "print(f\"Indexing with only stopwords took {m:.02f} minutes and {s:.02f} seconds\")"
   ]
  },
  {
   "cell_type": "markdown",
   "metadata": {},
   "source": [
    "Only do stemming"
   ]
  },
  {
   "cell_type": "code",
   "execution_count": 12,
   "metadata": {
    "pycharm": {
     "name": "#%%\n"
    },
    "scrolled": true
   },
   "outputs": [
    {
     "name": "stdout",
     "output_type": "stream",
     "text": [
      "Indexing with only PorterStemmer took 0.00 minutes and 0.54 seconds\n"
     ]
    }
   ],
   "source": [
    "t = time()\n",
    "index = generate_index(INDEX_PATH_STEMMING, termpipelines=\"PorterStemmer\")\n",
    "m, s = divmod(time() - t, 60)\n",
    "print(f\"Indexing with only PorterStemmer took {m:.02f} minutes and {s:.02f} seconds\")"
   ]
  },
  {
   "cell_type": "markdown",
   "metadata": {},
   "source": [
    "## 2.1 With positions (blocks)"
   ]
  },
  {
   "cell_type": "code",
   "execution_count": null,
   "metadata": {},
   "outputs": [],
   "source": [
    "# Default indexing (\"Stopwords, PorterStemmer\"), with positions (blocks)\n",
    "t = time()\n",
    "index = generate_index(INDEX_PATH_DEFAULT_POSITIONS, termpipelines=\"Stopwords,PorterStemmer\", blocks=True)\n",
    "m, s = divmod(time() - t, 60)\n",
    "print(f\"Indexing with blocks/positions and both stemming and stopword removal took {m:.02f} minutes and {s:.02f} seconds\")"
   ]
  },
  {
   "cell_type": "markdown",
   "metadata": {
    "pycharm": {
     "name": "#%% md\n"
    }
   },
   "source": [
    "# 3. Looking into index statistics"
   ]
  },
  {
   "cell_type": "markdown",
   "metadata": {},
   "source": [
    "Default pipeline (\"Stopwords, PorterStemmer\")"
   ]
  },
  {
   "cell_type": "code",
   "execution_count": 9,
   "metadata": {
    "pycharm": {
     "name": "#%%\n"
    }
   },
   "outputs": [
    {
     "name": "stdout",
     "output_type": "stream",
     "text": [
      "Number of documents: 2453\n",
      "Number of terms: 30772\n",
      "Number of postings: 292376\n",
      "Number of fields: 2\n",
      "Number of tokens: 485085\n",
      "Field names: [title, text]\n",
      "Positions:   false\n",
      "\n",
      "Default index size:  0.455468 mb\n"
     ]
    }
   ],
   "source": [
    "index = get_index(INDEX_PATH_DEFAULT)\n",
    "print(index.getCollectionStatistics().toString())\n",
    "print(\"Default index size: \", os.path.getsize(INDEX_PATH_DEFAULT + '/data.inverted.bf')/1000000, \"mb\")"
   ]
  },
  {
   "cell_type": "code",
   "execution_count": 28,
   "metadata": {
    "pycharm": {
     "name": "#%%\n"
    }
   },
   "outputs": [
    {
     "name": "stdout",
     "output_type": "stream",
     "text": [
      "Number of documents: 528155\n",
      "Number of terms: 621458\n",
      "Number of postings: 90480384\n",
      "Number of fields: 2\n",
      "Number of tokens: 145322007\n",
      "Field names: [title, text]\n",
      "Positions:   false\n",
      "\n",
      "Stopworded index size:  167.401919 mb\n"
     ]
    }
   ],
   "source": [
    "# Only remove stopwords\n",
    "index = get_index(INDEX_PATH_STOPWORDS)\n",
    "print(index.getCollectionStatistics().toString())\n",
    "print(\"Stopworded index size: \", os.path.getsize(INDEX_PATH_STOPWORDS + '/data.inverted.bf')/1000000, \"mb\")"
   ]
  },
  {
   "cell_type": "code",
   "execution_count": 27,
   "metadata": {
    "pycharm": {
     "name": "#%%\n"
    }
   },
   "outputs": [
    {
     "name": "stdout",
     "output_type": "stream",
     "text": [
      "Number of documents: 528155\n",
      "Number of terms: 520725\n",
      "Number of postings: 110057603\n",
      "Number of fields: 2\n",
      "Number of tokens: 257028522\n",
      "Field names: [title, text]\n",
      "Positions:   false\n",
      "\n",
      "Stemmed index size:  189.370016 mb\n"
     ]
    }
   ],
   "source": [
    "# Only PorterStemmer\n",
    "index = get_index(INDEX_PATH_STEMMING)\n",
    "print(index.getCollectionStatistics().toString())\n",
    "print(\"Stemmed index size: \", os.path.getsize(INDEX_PATH_STEMMING + '/data.inverted.bf')/1000000, \"mb\")"
   ]
  },
  {
   "cell_type": "code",
   "execution_count": 26,
   "metadata": {
    "pycharm": {
     "name": "#%%\n"
    }
   },
   "outputs": [
    {
     "name": "stdout",
     "output_type": "stream",
     "text": [
      "Number of documents: 528155\n",
      "Number of terms: 622029\n",
      "Number of postings: 117766368\n",
      "Number of fields: 2\n",
      "Number of tokens: 257028522\n",
      "Field names: [title, text]\n",
      "Positions:   false\n",
      "\n",
      "No preprocessing index size:  213.383976 mb\n"
     ]
    }
   ],
   "source": [
    "# No preprocessing pipeline\n",
    "index = get_index(INDEX_PATH_NO_PREPROCESSING)\n",
    "print(index.getCollectionStatistics().toString())\n",
    "print(\"No preprocessing index size: \", os.path.getsize(INDEX_PATH_NO_PREPROCESSING + '/data.inverted.bf')/1000000, \"mb\")"
   ]
  },
  {
   "cell_type": "code",
   "execution_count": 42,
   "metadata": {},
   "outputs": [
    {
     "name": "stdout",
     "output_type": "stream",
     "text": [
      "Number of documents: 528155\n",
      "Number of terms: 520520\n",
      "Number of postings: 83716130\n",
      "Number of fields: 2\n",
      "Number of tokens: 145322007\n",
      "Field names: [title, text]\n",
      "Positions:   true\n",
      "\n",
      "Default index with positions size:  394.240574 mb\n"
     ]
    }
   ],
   "source": [
    "# Default pipeline (\"Stopwords, PorterStemmer\") with positions/blocks\n",
    "index = get_index(INDEX_PATH_DEFAULT_POSITIONS)\n",
    "print(index.getCollectionStatistics().toString())\n",
    "print(\"Default index with positions size: \", os.path.getsize(INDEX_PATH_DEFAULT_POSITIONS + '/data.inverted.bf')/1000000, \"mb\")"
   ]
  }
 ],
 "metadata": {
  "kernelspec": {
   "display_name": "Python 3 (ipykernel)",
   "language": "python",
   "name": "python3"
  },
  "language_info": {
   "codemirror_mode": {
    "name": "ipython",
    "version": 3
   },
   "file_extension": ".py",
   "mimetype": "text/x-python",
   "name": "python",
   "nbconvert_exporter": "python",
   "pygments_lexer": "ipython3",
   "version": "3.9.12"
  }
 },
 "nbformat": 4,
 "nbformat_minor": 1
}
